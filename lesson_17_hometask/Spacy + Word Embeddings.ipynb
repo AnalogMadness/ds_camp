{
 "cells": [
  {
   "cell_type": "markdown",
   "id": "15c73b20",
   "metadata": {},
   "source": [
    "# Spacy"
   ]
  },
  {
   "cell_type": "markdown",
   "id": "8a7e86e4",
   "metadata": {},
   "source": [
    "spaCy is a free, open-source library for advanced Natural Language Processing (NLP) in Python.\n",
    "\n",
    "If you’re working with a lot of text, you’ll eventually want to know more about it. For example, what’s it about? What do the words mean in context? Who is doing what to whom? What companies and products are mentioned? Which texts are similar to each other?\n",
    "\n",
    "spaCy is designed specifically for production use and helps you build applications that process and “understand” large volumes of text. It can be used to build information extraction or natural language understanding systems, or to pre-process text for deep learning."
   ]
  },
  {
   "cell_type": "markdown",
   "id": "48ff3f2b",
   "metadata": {},
   "source": [
    "### Features\n",
    "\n",
    "| NAME                              | DESCRIPTION                                                                                                        |\n",
    "|-----------------------------------|--------------------------------------------------------------------------------------------------------------------|\n",
    "| Tokenization                      | Segmenting text into words, punctuations marks etc.                                                                |\n",
    "| Part-of-speech (POS) Tagging      | Assigning word types to tokens, like verb or noun.                                                                 |\n",
    "| Dependency Parsing                | Assigning syntactic dependency labels, describing the relations between individual tokens, like subject or object. |\n",
    "| Lemmatization                     | Assigning the base forms of words. For example, the lemma of “was” is “be”, and the lemma of “rats” is “rat”.      |\n",
    "| Sentence Boundary Detection (SBD) | Finding and segmenting individual sentences.                                                                       |\n",
    "| Named Entity Recognition (NER)    | Labelling named “real-world” objects, like persons, companies or locations.                                        |\n",
    "| Entity Linking (EL)               | Disambiguating textual entities to unique identifiers in a knowledge base.                                         |\n",
    "| Similarity                        | Comparing words, text spans and documents and how similar they are to each other.                                  |\n",
    "| Text Classification               | Assigning categories or labels to a whole document, or parts of a document.                                        |\n",
    "| Rule-based Matching               | Finding sequences of tokens based on their texts and linguistic annotations, similar to regular expressions.       |\n",
    "| Training                          | Updating and improving a statistical model’s predictions.                                                          |\n",
    "| Serialization                     | Saving objects to files or byte strings.                                                                           |"
   ]
  },
  {
   "cell_type": "code",
   "execution_count": 1,
   "id": "e3811838",
   "metadata": {},
   "outputs": [],
   "source": [
    "import spacy"
   ]
  },
  {
   "cell_type": "markdown",
   "id": "16ca603a",
   "metadata": {},
   "source": [
    "### Downloading models\n",
    "\n",
    "https://spacy.io/usage/models"
   ]
  },
  {
   "cell_type": "code",
   "execution_count": 2,
   "id": "db8e988a",
   "metadata": {},
   "outputs": [],
   "source": [
    "# !python -m spacy download en_core_web_lg"
   ]
  },
  {
   "cell_type": "markdown",
   "id": "29463e02",
   "metadata": {},
   "source": [
    "### Creating nlp pipeline\n",
    "\n",
    "At the center of spaCy is the object containing the processing pipeline. We usually call this variable \"nlp\". You can use the nlp object like a function to analyze text.It contains all the different components in the pipeline.\n",
    "It also includes language-specific rules used for tokenizing the text into words and punctuation. spaCy supports a variety of languages that are available in spacy.lang"
   ]
  },
  {
   "cell_type": "code",
   "execution_count": 3,
   "id": "d1ded766",
   "metadata": {},
   "outputs": [],
   "source": [
    "nlp = spacy.load(\"en_core_web_lg\")"
   ]
  },
  {
   "cell_type": "code",
   "execution_count": 4,
   "id": "c0ae9852",
   "metadata": {},
   "outputs": [
    {
     "data": {
      "text/plain": [
       "['tok2vec', 'tagger', 'parser', 'attribute_ruler', 'lemmatizer', 'ner']"
      ]
     },
     "execution_count": 4,
     "metadata": {},
     "output_type": "execute_result"
    }
   ],
   "source": [
    "nlp.pipe_names"
   ]
  },
  {
   "cell_type": "markdown",
   "id": "d81fb65b",
   "metadata": {},
   "source": [
    "### The Doc object\n",
    "\n",
    "When you process a text with the nlp object, spaCy creates a Doc object – short for \"document\". The Doc lets you access information about the text in a structured way, and no information is lost.\n",
    "The Doc behaves like a normal Python sequence by the way and lets you iterate over its tokens, or get a token by its index. But more on that later!"
   ]
  },
  {
   "cell_type": "code",
   "execution_count": 5,
   "id": "2f9f76cb",
   "metadata": {},
   "outputs": [
    {
     "name": "stdout",
     "output_type": "stream",
     "text": [
      "Apple\n",
      "is\n",
      "looking\n",
      "at\n",
      "buying\n",
      "U.K.\n",
      "startup\n",
      "for\n",
      "$\n",
      "1\n",
      "billion\n",
      "<class 'spacy.tokens.doc.Doc'>\n"
     ]
    },
    {
     "data": {
      "text/plain": [
       "Apple is looking at buying U.K. startup for $1 billion"
      ]
     },
     "execution_count": 5,
     "metadata": {},
     "output_type": "execute_result"
    }
   ],
   "source": [
    "# Created by processing a string of text with the nlp object\n",
    "doc = nlp(\"Apple is looking at buying U.K. startup for $1 billion\")\n",
    "\n",
    "# Iterate over tokens in a Doc\n",
    "for token in doc:\n",
    "    print(token.text)\n",
    "    \n",
    "print(type(doc))\n",
    "doc"
   ]
  },
  {
   "cell_type": "markdown",
   "id": "9be42ee9",
   "metadata": {},
   "source": [
    "### The Token object\n",
    "\n",
    "Token objects represent the tokens in a document – for example, a word or a punctuation character.\n",
    "To get a token at a specific position, you can index into the doc.\n",
    "Token objects also provide various attributes that let you access more information about the tokens. For example, the .text attribute returns the verbatim token text.\n",
    "\n",
    "<img src=\"./img/spacy1.png\">"
   ]
  },
  {
   "cell_type": "code",
   "execution_count": 6,
   "id": "0683a744",
   "metadata": {},
   "outputs": [
    {
     "name": "stdout",
     "output_type": "stream",
     "text": [
      "looking\n"
     ]
    }
   ],
   "source": [
    "doc = nlp(\"Apple is looking at buying U.K. startup for $1 billion\")\n",
    "\n",
    "# Index into the Doc to get a single Token\n",
    "token = doc[2]\n",
    "\n",
    "# Get the token text via the .text attribute\n",
    "print(token.text)"
   ]
  },
  {
   "cell_type": "markdown",
   "id": "b6f035c1",
   "metadata": {},
   "source": [
    "### Tokenization\n",
    "Segment text into words, punctuations marks, etc.\n"
   ]
  },
  {
   "cell_type": "code",
   "execution_count": 7,
   "id": "8bf73b4e",
   "metadata": {},
   "outputs": [
    {
     "data": {
      "text/plain": [
       "[,\n",
       " Tokenization,\n",
       " segments,\n",
       " text,\n",
       " into,\n",
       " words,\n",
       " ,,\n",
       " punctuations,\n",
       " marks,\n",
       " ,,\n",
       " etc,\n",
       " .,\n",
       " ,\n",
       " It,\n",
       " is,\n",
       " smarter,\n",
       " than,\n",
       " regex,\n",
       " .,\n",
       " ,\n",
       " It,\n",
       " wo,\n",
       " n't,\n",
       " split,\n",
       " the,\n",
       " U.K.,\n",
       " for,\n",
       " example,\n",
       " .,\n",
       " ]"
      ]
     },
     "execution_count": 7,
     "metadata": {},
     "output_type": "execute_result"
    }
   ],
   "source": [
    "tokens = nlp.tokenizer(\"\"\"\n",
    "Tokenization segments text into words, punctuations marks, etc. \n",
    "It is smarter than regex. \n",
    "It won't split the U.K. for example.\n",
    "\"\"\")\n",
    "list(tokens)"
   ]
  },
  {
   "cell_type": "markdown",
   "id": "70e3e3f6",
   "metadata": {},
   "source": [
    "### POS tagging\n",
    "\n",
    "\n",
    "For each token in the doc, we can print the text and the .pos_ attribute, the predicted part-of-speech tag.\n"
   ]
  },
  {
   "cell_type": "code",
   "execution_count": 8,
   "id": "d94f310c",
   "metadata": {},
   "outputs": [
    {
     "name": "stdout",
     "output_type": "stream",
     "text": [
      "She PRON\n",
      "ate VERB\n",
      "the DET\n",
      "pizza NOUN\n",
      ". PUNCT\n",
      "Billion NUM\n",
      "is AUX\n",
      "a DET\n",
      "number NOUN\n"
     ]
    }
   ],
   "source": [
    "doc = nlp(\"She ate the pizza. Billion is a number\")\n",
    "\n",
    "# Iterate over the tokens\n",
    "for token in doc:\n",
    "    # Print the text and the predicted part-of-speech tag\n",
    "    print(token.text, token.pos_)"
   ]
  },
  {
   "cell_type": "markdown",
   "id": "4920ead6",
   "metadata": {},
   "source": [
    "### Predicting Syntactic Dependencies\n",
    "In addition to the part-of-speech tags, we can also predict how the words are related. For example, whether a word is the subject of the sentence or an object.\n",
    "\n",
    "The .dep_ attribute returns the predicted dependency label.\n",
    "\n",
    "The .head attribute returns the syntactic head token. You can also think of it as the parent token this word is attached to.\n",
    "\n",
    "<img src=\"img/1.png\">"
   ]
  },
  {
   "cell_type": "code",
   "execution_count": 9,
   "id": "11ebcbd0",
   "metadata": {},
   "outputs": [
    {
     "name": "stdout",
     "output_type": "stream",
     "text": [
      "She PRON nsubj ate\n",
      "ate VERB ROOT ate\n",
      "the DET det pizza\n",
      "pizza NOUN dobj ate\n"
     ]
    }
   ],
   "source": [
    "doc = nlp(\"She ate the pizza\")\n",
    "\n",
    "for token in doc:\n",
    "    print(token.text, token.pos_, token.dep_, token.head.text)"
   ]
  },
  {
   "cell_type": "markdown",
   "id": "497d2615",
   "metadata": {},
   "source": [
    "### Lemmatization"
   ]
  },
  {
   "cell_type": "code",
   "execution_count": 10,
   "id": "985e7c45",
   "metadata": {},
   "outputs": [
    {
     "name": "stdout",
     "output_type": "stream",
     "text": [
      "Apple Apple\n",
      "is be\n",
      "looking look\n",
      "at at\n",
      "buying buy\n",
      "U.K. U.K.\n",
      "startup startup\n",
      "for for\n",
      "1 1\n",
      "billion billion\n",
      "of of\n",
      "dollars dollar\n"
     ]
    }
   ],
   "source": [
    "doc = nlp(\"Apple is looking at buying U.K. startup for 1 billion of dollars\")\n",
    "\n",
    "for token in doc:\n",
    "    print(token.text, token.lemma_)"
   ]
  },
  {
   "cell_type": "markdown",
   "id": "a004c442",
   "metadata": {},
   "source": [
    "### Named Entity Recognition"
   ]
  },
  {
   "cell_type": "code",
   "execution_count": 11,
   "id": "3ec27e7a",
   "metadata": {},
   "outputs": [
    {
     "name": "stdout",
     "output_type": "stream",
     "text": [
      "Apple ORG\n",
      "U.K. GPE\n",
      "$1 billion MONEY\n"
     ]
    }
   ],
   "source": [
    "doc = nlp(\"Apple is looking at buying U.K. startup for $1 billion\")\n",
    "\n",
    "# Iterate over the predicted entities\n",
    "for ent in doc.ents:\n",
    "    # Print the entity text and its label\n",
    "    print(ent.text, ent.label_)"
   ]
  },
  {
   "cell_type": "markdown",
   "id": "d8199e63",
   "metadata": {},
   "source": [
    "#### Hint: Spacy Explain\n",
    "To get definitions for the most common tags and labels, you can use the spacy.explain helper function.\n",
    "\n",
    "For example, \"GPE\" for geopolitical entity isn't exactly intuitive – but spacy.explain can tell you that it refers to countries, cities and states.\n",
    "\n",
    "The same works for part-of-speech tags and dependency labels."
   ]
  },
  {
   "cell_type": "code",
   "execution_count": 12,
   "id": "7eefa6b7",
   "metadata": {},
   "outputs": [
    {
     "name": "stdout",
     "output_type": "stream",
     "text": [
      "Countries, cities, states\n",
      "nominal subject\n",
      "determiner\n",
      "Nationalities or religious or political groups\n"
     ]
    }
   ],
   "source": [
    "print(spacy.explain(\"GPE\"))\n",
    "print(spacy.explain(\"nsubj\"))\n",
    "print(spacy.explain(\"DET\"))\n",
    "print(spacy.explain(\"NORP\"))"
   ]
  },
  {
   "cell_type": "markdown",
   "id": "e578aeaa",
   "metadata": {},
   "source": [
    "# Semantic Similarity"
   ]
  },
  {
   "cell_type": "markdown",
   "id": "faaa5064",
   "metadata": {},
   "source": [
    "spaCy can compare two objects and predict how similar they are – for example, documents, spans or single tokens.\n",
    "\n",
    "The Doc, Token and Span objects have a .similarity method that takes another object and returns a floating point number between 0 and 1, indicating how similar they are.\n",
    "\n",
    "One thing that's very important: In order to use similarity, you need a larger spaCy model that has word vectors included.\n",
    "\n",
    "By default, the similarity returned by spaCy is the cosine similarity between two vectors – but this can be adjusted if necessary."
   ]
  },
  {
   "cell_type": "code",
   "execution_count": 13,
   "id": "6d7baf4c",
   "metadata": {},
   "outputs": [
    {
     "name": "stdout",
     "output_type": "stream",
     "text": [
      "0.8469946845782282\n",
      "0.6275414160796284\n"
     ]
    }
   ],
   "source": [
    "doc1 = nlp(\"I like fast food\")\n",
    "doc2 = nlp(\"I like burgers\")\n",
    "doc3 = nlp(\"Apple is looking at buying U.K. startup for $1 billion\")\n",
    "print(doc1.similarity(doc2))\n",
    "print(doc1.similarity(doc3))"
   ]
  },
  {
   "cell_type": "markdown",
   "id": "42527d4c",
   "metadata": {},
   "source": [
    "https://spacy.io/usage/spacy-101"
   ]
  },
  {
   "cell_type": "markdown",
   "id": "0e76cd63",
   "metadata": {},
   "source": [
    "# Word Embeddings"
   ]
  },
  {
   "cell_type": "markdown",
   "id": "c8841561",
   "metadata": {},
   "source": [
    "Similarity is determined using word vectors, multi-dimensional representations of meanings of words.\n"
   ]
  },
  {
   "cell_type": "markdown",
   "id": "cd728ca6",
   "metadata": {},
   "source": [
    "## Word representation\n",
    "\n",
    "Recall onehot  representation\n",
    "\n",
    "$$boy \\qquad \\qquad \\, girl\\quad \\qquad \\quad apple\\qquad \\quad orange\\qquad \\qquad king\\qquad \\qquad queen\\qquad \\qquad\\\\ \\begin{bmatrix} 0 \\\\ \\vdots  \\\\ 0 \\\\ 1 \\\\ 0 \\\\ \\quad  \\\\ \\vdots  \\\\ \\quad  \\\\ \\quad  \\\\ \\quad  \\\\ 0 \\end{bmatrix}\\begin{matrix} \\quad  \\\\ \\leftarrow 1458 \\\\ \\quad  \\\\ \\quad  \\\\ \\quad  \\\\ \\quad  \\\\ \\quad  \\end{matrix}\\begin{bmatrix} 0 \\\\ \\vdots  \\\\ \\quad  \\\\ 0 \\\\ 1 \\\\ 0 \\\\ \\vdots  \\\\ \\quad  \\\\ \\quad  \\\\ \\quad  \\\\ 0 \\end{bmatrix}\\begin{matrix} \\quad  \\\\ \\quad  \\\\ \\leftarrow 3945 \\\\ \\quad  \\\\ \\quad  \\\\ \\quad  \\\\ \\quad  \\end{matrix}\\begin{bmatrix} 0 \\\\ \\vdots  \\\\ 1 \\\\ 0 \\\\ 1 \\\\ 0 \\\\ \\vdots  \\\\ \\quad  \\\\ \\quad  \\\\ \\quad  \\\\ 0 \\end{bmatrix}\\begin{matrix} \\leftarrow 472 \\\\ \\quad  \\\\ \\quad  \\\\ \\quad  \\\\ \\quad  \\\\ \\quad  \\\\ \\quad  \\end{matrix}\\begin{bmatrix} 0 \\\\ \\quad  \\\\ \\quad  \\\\ \\quad  \\\\ \\vdots  \\\\ \\quad  \\\\ \\quad  \\\\ 1 \\\\ 0 \\\\ \\vdots  \\\\ 0 \\end{bmatrix}\\begin{matrix} \\quad  \\\\ \\quad  \\\\ \\quad  \\\\ \\quad  \\\\ \\quad  \\\\ \\leftarrow 6117 \\\\ \\quad  \\end{matrix}\\begin{bmatrix} 0 \\\\ \\quad  \\\\ \\vdots  \\\\ \\quad  \\\\ 0 \\\\ 1 \\\\ 0 \\\\ \\quad  \\\\ \\vdots  \\\\ \\quad  \\\\ 0 \\end{bmatrix}\\begin{matrix} \\quad  \\\\ \\quad  \\\\ \\quad  \\\\ \\leftarrow 4924 \\\\ \\quad  \\\\ \\quad  \\\\ \\quad  \\end{matrix}\\begin{bmatrix} 0 \\\\  \\\\ \\quad  \\\\ \\quad  \\\\ \\vdots  \\\\ \\quad  \\\\ \\quad  \\\\ \\quad  \\\\ 0 \\\\ 1 \\\\ 0 \\end{bmatrix}\\begin{matrix} \\quad  \\\\ \\quad  \\\\ \\quad  \\\\ \\quad  \\\\ \\quad  \\\\ \\quad  \\\\ \\quad  \\\\ \\quad  \\\\ \\quad  \\\\ \\leftarrow 9714\\quad  \\\\ \\quad  \\end{matrix}\\\\ \\quad$$\n",
    "\n",
    "\n",
    "This representation does not provide any relation for similar words e.g. \n",
    "<br>`I like apple juice` and   `I like orange juice` \n"
   ]
  },
  {
   "cell_type": "markdown",
   "id": "fc045517",
   "metadata": {},
   "source": [
    "The target is to get **vectorized reprezentation** even if vectors are not semantically defined. \n",
    "\n",
    "The target vectors are expected to be similar by cosine similairity for semantically similar words. \n",
    "\n",
    "<img src=\"img/2.png\" align = 'left' style=\"width:350;height:250px;\"> <br>\n",
    "<div style=\"clear:left;\"></div>\n",
    "\n",
    "If model is trained using such vectors then having in traing set $\\quad$ `I like apple` <u><b> juice </b></u>,  <br>  would make easier to predict $\\quad$ <u><b> juice </b></u> $\\quad$ for $\\quad$  `I like orange` <u><b> $\\text{_____}$ </b></u>\n",
    "\n",
    "\n"
   ]
  },
  {
   "cell_type": "markdown",
   "id": "d8e8f58f",
   "metadata": {},
   "source": [
    "### Spacy"
   ]
  },
  {
   "cell_type": "code",
   "execution_count": 14,
   "id": "b7505978",
   "metadata": {
    "scrolled": true,
    "tags": []
   },
   "outputs": [
    {
     "name": "stdout",
     "output_type": "stream",
     "text": [
      "300\n",
      "[ 2.0228e-01 -7.6618e-02  3.7032e-01  3.2845e-02 -4.1957e-01  7.2069e-02\n",
      " -3.7476e-01  5.7460e-02 -1.2401e-02  5.2949e-01 -5.2380e-01 -1.9771e-01\n",
      " -3.4147e-01  5.3317e-01 -2.5331e-02  1.7380e-01  1.6772e-01  8.3984e-01\n",
      "  5.5107e-02  1.0547e-01  3.7872e-01  2.4275e-01  1.4745e-02  5.5951e-01\n",
      "  1.2521e-01 -6.7596e-01  3.5842e-01 -4.0028e-02  9.5949e-02 -5.0690e-01\n",
      " -8.5318e-02  1.7980e-01  3.3867e-01  1.3230e-01  3.1021e-01  2.1878e-01\n",
      "  1.6853e-01  1.9874e-01 -5.7385e-01 -1.0649e-01  2.6669e-01  1.2838e-01\n",
      " -1.2803e-01 -1.3284e-01  1.2657e-01  8.6723e-01  9.6721e-02  4.8306e-01\n",
      "  2.1271e-01 -5.4990e-02 -8.2425e-02  2.2408e-01  2.3975e-01 -6.2260e-02\n",
      "  6.2194e-01 -5.9900e-01  4.3201e-01  2.8143e-01  3.3842e-02 -4.8815e-01\n",
      " -2.1359e-01  2.7401e-01  2.4095e-01  4.5950e-01 -1.8605e-01 -1.0497e+00\n",
      " -9.7305e-02 -1.8908e-01 -7.0929e-01  4.0195e-01 -1.8768e-01  5.1687e-01\n",
      "  1.2520e-01  8.4150e-01  1.2097e-01  8.8239e-02 -2.9196e-02  1.2151e-03\n",
      "  5.6825e-02 -2.7421e-01  2.5564e-01  6.9793e-02 -2.2258e-01 -3.6006e-01\n",
      " -2.2402e-01 -5.3699e-02  1.2022e+00  5.4535e-01 -5.7998e-01  1.0905e-01\n",
      "  4.2167e-01  2.0662e-01  1.2936e-01 -4.1457e-02 -6.6777e-01  4.0467e-01\n",
      " -1.5218e-02 -2.7640e-01 -1.5611e-01 -7.9198e-02  4.0037e-02 -1.2944e-01\n",
      " -2.4090e-04 -2.6785e-01 -3.8115e-01 -9.7245e-01  3.1726e-01 -4.3951e-01\n",
      "  4.1934e-01  1.8353e-01 -1.5260e-01 -1.0808e-01 -1.0358e+00  7.6217e-02\n",
      "  1.6519e-01  2.6526e-04  1.6616e-01 -1.5281e-01  1.8123e-01  7.0274e-01\n",
      "  5.7956e-03  5.1664e-02 -5.9745e-02 -2.7551e-01 -3.9049e-01  6.1132e-02\n",
      "  5.5430e-01 -8.7997e-02 -4.1681e-01  3.2826e-01 -5.2549e-01 -4.4288e-01\n",
      "  8.2183e-03  2.4486e-01 -2.2982e-01 -3.4981e-01  2.6894e-01  3.9166e-01\n",
      " -4.1904e-01  1.6191e-01 -2.6263e+00  6.4134e-01  3.9743e-01 -1.2868e-01\n",
      " -3.1946e-01 -2.5633e-01 -1.2220e-01  3.2275e-01 -7.9933e-02 -1.5348e-01\n",
      "  3.1505e-01  3.0591e-01  2.6012e-01  1.8553e-01 -2.4043e-01  4.2886e-02\n",
      "  4.0622e-01 -2.4256e-01  6.3870e-01  6.9983e-01 -1.4043e-01  2.5209e-01\n",
      "  4.8984e-01 -6.1067e-02 -3.6766e-01 -5.5089e-01 -3.8265e-01 -2.0843e-01\n",
      "  2.2832e-01  5.1218e-01  2.7868e-01  4.7652e-01  4.7951e-02 -3.4008e-01\n",
      " -3.2873e-01 -4.1967e-01 -7.5499e-02 -3.8954e-01 -2.9622e-02 -3.4070e-01\n",
      "  2.2170e-01 -6.2856e-02 -5.1903e-01 -3.7774e-01 -4.3477e-03 -5.8301e-01\n",
      " -8.7546e-02 -2.3929e-01 -2.4711e-01 -2.5887e-01 -2.9894e-01  1.3715e-01\n",
      "  2.9892e-02  3.6544e-02 -4.9665e-01 -1.8160e-01  5.2939e-01  2.1992e-01\n",
      " -4.4514e-01  3.7798e-01 -5.7062e-01 -4.6946e-02  8.1806e-02  1.9279e-02\n",
      "  3.3246e-01 -1.4620e-01  1.7156e-01  3.9981e-01  3.6217e-01  1.2816e-01\n",
      "  3.1644e-01  3.7569e-01 -7.4690e-02 -4.8480e-02 -3.1401e-01 -1.9286e-01\n",
      " -3.1294e-01 -1.7553e-02 -1.7514e-01 -2.7587e-02 -1.0000e+00  1.8387e-01\n",
      "  8.1434e-01 -1.8913e-01  5.0999e-01 -9.1960e-03 -1.9295e-03  2.8189e-01\n",
      "  2.7247e-02  4.3409e-01 -5.4967e-01 -9.7426e-02 -2.4540e-01 -1.7203e-01\n",
      " -8.8650e-02 -3.0298e-01 -1.3591e-01 -2.7765e-01  3.1286e-03  2.0556e-01\n",
      " -1.5772e-01 -5.2308e-01 -6.4701e-01 -3.7014e-01  6.9393e-02  1.1401e-01\n",
      "  2.7594e-01 -1.3875e-01 -2.7268e-01  6.6891e-01 -5.6454e-02  2.4017e-01\n",
      " -2.6730e-01  2.9860e-01  1.0083e-01  5.5592e-01  3.2849e-01  7.6858e-02\n",
      "  1.5528e-01  2.5636e-01 -1.0772e-01 -1.2359e-01  1.1827e-01 -9.9029e-02\n",
      " -3.4328e-01  1.1502e-01 -3.7808e-01 -3.9012e-02 -3.4593e-01 -1.9404e-01\n",
      " -3.3580e-01 -6.2334e-02  2.8919e-01  2.8032e-01 -5.3741e-01  6.2794e-01\n",
      "  5.6955e-02  6.2147e-01 -2.5282e-01  4.1670e-01 -1.0108e-02 -2.5434e-01\n",
      "  4.0003e-01  4.2432e-01  2.2672e-01  1.7553e-01  2.3049e-01  2.8323e-01\n",
      "  1.3882e-01  3.1218e-03  1.7057e-01  3.6685e-01  2.5247e-03 -6.4009e-01\n",
      " -2.9765e-01  7.8943e-01  3.3168e-01 -1.1966e+00 -4.7156e-02  5.3175e-01]\n"
     ]
    }
   ],
   "source": [
    "doc = nlp(\"I have a banana\")\n",
    "# Access the vector via the token.vector attribute\n",
    "print(len(doc[3].vector))\n",
    "print(doc[3].vector)"
   ]
  },
  {
   "cell_type": "markdown",
   "id": "269274bd",
   "metadata": {},
   "source": [
    "### Word2Vec\n",
    "https://uk.wikipedia.org/wiki/Word2vec\n",
    "\n",
    "The idea behind Word2Vec is pretty simple. We are making and assumption that you can tell the meaning of a word by the company it keeps. This is analogous to the saying show me your friends, and I'll tell who you are. So if you have two words that have very similar neighbors (i.e. the usage context is about the same), then these words are probably quite similar in meaning or are at least highly related. For example, the words shocked,appalled and astonished are typically used in a similar context.\n",
    "\n",
    "In this tutorial, you will learn how to use the Gensim implementation of Word2Vec and actually get it to work! I have heard a lot of complaints about poor performance etc, but its really a combination of two things, (1) your input data and (2) your parameter settings. Note that the training algorithms in this package were ported from the original Word2Vec implementation by Google and extended with additional functionality."
   ]
  },
  {
   "cell_type": "markdown",
   "id": "8417b2a5",
   "metadata": {},
   "source": [
    "#### Training word2vec model using gensim"
   ]
  },
  {
   "cell_type": "code",
   "execution_count": 15,
   "id": "cbed99eb",
   "metadata": {},
   "outputs": [
    {
     "name": "stderr",
     "output_type": "stream",
     "text": [
      "/home/bohdan/anaconda3/envs/ds_env/lib/python3.8/site-packages/gensim/similarities/__init__.py:15: UserWarning: The gensim.similarities.levenshtein submodule is disabled, because the optional Levenshtein package <https://pypi.org/project/python-Levenshtein/> is unavailable. Install Levenhstein (e.g. `pip install python-Levenshtein`) to suppress this warning.\n",
      "  warnings.warn(msg)\n"
     ]
    }
   ],
   "source": [
    "import gzip\n",
    "import gensim"
   ]
  },
  {
   "cell_type": "markdown",
   "id": "f394c54a",
   "metadata": {},
   "source": [
    "#### Loading data\n"
   ]
  },
  {
   "cell_type": "code",
   "execution_count": 16,
   "id": "482ac988",
   "metadata": {},
   "outputs": [
    {
     "name": "stdout",
     "output_type": "stream",
     "text": [
      "b\"Oct 12 2009 \\tNice trendy hotel location not too bad.\\tI stayed in this hotel for one night. As this is a fairly new place some of the taxi drivers did not know where it was and/or did not want to drive there. Once I have eventually arrived at the hotel, I was very pleasantly surprised with the decor of the lobby/ground floor area. It was very stylish and modern. I found the reception's staff geeting me with 'Aloha' a bit out of place, but I guess they are briefed to say that to keep up the coroporate image.As I have a Starwood Preferred Guest member, I was given a small gift upon-check in. It was only a couple of fridge magnets in a gift box, but nevertheless a nice gesture.My room was nice and roomy, there are tea and coffee facilities in each room and you get two complimentary bottles of water plus some toiletries by 'bliss'.The location is not great. It is at the last metro stop and you then need to take a taxi, but if you are not planning on going to see the historic sites in Beijing, then you will be ok.I chose to have some breakfast in the hotel, which was really tasty and there was a good selection of dishes. There are a couple of computers to use in the communal area, as well as a pool table. There is also a small swimming pool and a gym area.I would definitely stay in this hotel again, but only if I did not plan to travel to central Beijing, as it can take a long time. The location is ok if you plan to do a lot of shopping, as there is a big shopping centre just few minutes away from the hotel and there are plenty of eating options around, including restaurants that serve a dog meat!\\t\\r\\n\"\n"
     ]
    }
   ],
   "source": [
    "input_file = \"./data/reviews_data.txt.gz\"\n",
    "\n",
    "with gzip.open(input_file, 'rb') as f:\n",
    "    for i,line in enumerate (f):\n",
    "        print(line)\n",
    "        break"
   ]
  },
  {
   "cell_type": "code",
   "execution_count": 17,
   "id": "f9bde449",
   "metadata": {},
   "outputs": [
    {
     "name": "stdout",
     "output_type": "stream",
     "text": [
      "reading file ./data/reviews_data.txt.gz...this may take a while\n",
      "read 0 reviews\n",
      "read 10000 reviews\n",
      "read 20000 reviews\n",
      "read 30000 reviews\n",
      "read 40000 reviews\n",
      "read 50000 reviews\n",
      "read 60000 reviews\n",
      "read 70000 reviews\n",
      "read 80000 reviews\n",
      "read 90000 reviews\n",
      "read 100000 reviews\n",
      "read 110000 reviews\n",
      "read 120000 reviews\n",
      "read 130000 reviews\n",
      "read 140000 reviews\n",
      "read 150000 reviews\n",
      "read 160000 reviews\n",
      "read 170000 reviews\n",
      "read 180000 reviews\n",
      "read 190000 reviews\n",
      "read 200000 reviews\n",
      "read 210000 reviews\n",
      "read 220000 reviews\n",
      "read 230000 reviews\n",
      "read 240000 reviews\n",
      "read 250000 reviews\n",
      "Done reading data file\n"
     ]
    }
   ],
   "source": [
    "def read_input(input_file):\n",
    "    \"\"\"This method reads the input file which is in gzip format\"\"\"\n",
    "    \n",
    "    print(\"reading file {0}...this may take a while\".format(input_file))\n",
    "    \n",
    "    with gzip.open(input_file, 'rb') as f:\n",
    "        for i, line in enumerate (f): \n",
    "            if (i%10000==0):\n",
    "                print(\"read {0} reviews\".format(i))\n",
    "            # do some pre-processing and return a list of words for each review text\n",
    "            yield gensim.utils.simple_preprocess(line)\n",
    "\n",
    "# read the tokenized reviews into a list\n",
    "# each review item becomes a serries of words\n",
    "# so this becomes a list of lists\n",
    "documents = list(read_input(input_file))\n",
    "print(\"Done reading data file\")"
   ]
  },
  {
   "cell_type": "markdown",
   "id": "68984e56",
   "metadata": {},
   "source": [
    "Training the model is fairly straightforward. You just instantiate Word2Vec and pass the reviews that we read in the previous step (the documents). So, we are essentially passing on a list of lists. Where each list within the main list contains a set of tokens from a user review. Word2Vec uses all these tokens to internally create a vocabulary.\n",
    "\n",
    "After building the vocabulary, we just need to call train(...) to start training the Word2Vec model. Training on the OpinRank dataset takes about 10 minutes so please be patient while running your code on this dataset.\n",
    "\n",
    "<img src=\"img/7.png\">"
   ]
  },
  {
   "cell_type": "code",
   "execution_count": 18,
   "id": "3e885494",
   "metadata": {},
   "outputs": [],
   "source": [
    "# model = gensim.models.Word2Vec(documents, vector_size=150, window=10, min_count=2, workers=24)\n",
    "# model.train(documents,total_examples=len(documents),epochs=10)"
   ]
  },
  {
   "cell_type": "code",
   "execution_count": 19,
   "id": "0ef797ef",
   "metadata": {},
   "outputs": [],
   "source": [
    "import pickle\n",
    "\n",
    "# with open(\"./w2v.model\", \"wb\") as f:\n",
    "#     pickle.dump(model, f)\n",
    "    \n",
    "with open(\"./w2v.model\", \"rb\") as f:\n",
    "    model = pickle.load(f)"
   ]
  },
  {
   "cell_type": "code",
   "execution_count": 20,
   "id": "bf6c75a4",
   "metadata": {
    "scrolled": true,
    "tags": []
   },
   "outputs": [
    {
     "name": "stdout",
     "output_type": "stream",
     "text": [
      "150\n",
      "[-1.3899217  -0.3737228  -2.666311    3.54252     3.2357097   0.20491503\n",
      " -2.1295466   0.54146177 -0.6249488   2.6508749   1.5873171  -5.1272163\n",
      " -3.084422    3.939809   -2.0652852   0.2448739  -0.43315598  0.3170544\n",
      " -2.1743352  -0.57942677 -3.5716836   0.786738   -0.0889107  -3.9856489\n",
      "  2.4038577   6.2939167  -1.6515285  -1.6507418  -0.8590235   4.383898\n",
      "  2.71958    -6.02498    -2.510434    0.84199876 -0.8735189  -2.5513418\n",
      "  2.097896    0.15211919  0.65232474 -2.0750084  -0.25561252  0.5879701\n",
      "  4.7977505  -0.40362814 -1.4729497   4.4881735   3.239752    1.4243891\n",
      " -4.498614    5.750339   -1.8617357  -0.34265506 -2.1606433   5.9471455\n",
      "  1.7514248  -0.6553776  -4.166816   -1.3523401   2.388277    1.7823781\n",
      " -4.9179635  -1.002605    1.7314526   0.05238996 -1.3864789  -4.0298486\n",
      " -2.1944242  -2.126804    1.9887234   0.33664438 -3.884635    0.5266325\n",
      "  1.7292053  -0.43828267 -4.6069155   1.3125004  -1.2170959  -3.6522167\n",
      " -0.3835142  -4.174236    1.0721489   0.41395473 -1.2947817   3.2164288\n",
      "  2.3248062  -1.181893   -1.2563884   3.9561133   1.1716213  -3.6321025\n",
      "  1.6425216  -1.2963842  -3.6846342   0.52681094  0.3774697   3.2039242\n",
      "  1.0571756   0.13866353  2.0685456  -1.8494731  -0.09421885  2.1209035\n",
      " -2.0908813   0.03564257  2.7787275   0.84269893  2.7161937  -0.57248014\n",
      " -2.401758   -2.2186987  -2.7042193   2.1737788  -1.4834505  -1.1735379\n",
      "  1.8907497  -0.41786826 -1.0460123  -1.8682743   0.77331704  0.47429055\n",
      " -0.38386586  4.678882   -5.0225863  -2.2982233  -1.4288104  -4.3230314\n",
      "  3.26564     2.4038477   0.01018189 -1.8920052   0.6933659   1.1951381\n",
      " -0.16951315 -2.5364497   0.7042575  -1.3957359   2.3054404   0.3186625\n",
      " -0.1493916   0.7062319  -2.6402528   4.332916   -3.0479782   2.2044754\n",
      "  4.3160925   0.31483918  1.1724918   2.461174   -4.0212154  -2.7949066 ]\n"
     ]
    }
   ],
   "source": [
    "word_v= model.wv.get_vector('hello')\n",
    "print(len(word_v))\n",
    "print(word_v)"
   ]
  },
  {
   "cell_type": "markdown",
   "id": "0651d6e1",
   "metadata": {},
   "source": [
    "#### Now, let's look at some output\n",
    "This first example shows a simple case of looking up words similar to the word dirty. All we need to do here is to call the most_similar function and provide the word dirty as the positive example. This returns the top 10 similar words."
   ]
  },
  {
   "cell_type": "code",
   "execution_count": 21,
   "id": "ce50cac5",
   "metadata": {},
   "outputs": [
    {
     "data": {
      "text/plain": [
       "[('filthy', 0.8643263578414917),\n",
       " ('stained', 0.7832563519477844),\n",
       " ('unclean', 0.7817821502685547),\n",
       " ('smelly', 0.772053062915802),\n",
       " ('dusty', 0.7595260739326477),\n",
       " ('grubby', 0.7468539476394653),\n",
       " ('mouldy', 0.7240976095199585),\n",
       " ('soiled', 0.723734974861145),\n",
       " ('gross', 0.7211849689483643),\n",
       " ('dingy', 0.7200460433959961)]"
      ]
     },
     "execution_count": 21,
     "metadata": {},
     "output_type": "execute_result"
    }
   ],
   "source": [
    "w1 = \"dirty\"\n",
    "model.wv.most_similar(positive=w1)"
   ]
  },
  {
   "cell_type": "code",
   "execution_count": 22,
   "id": "a3761ec0",
   "metadata": {},
   "outputs": [
    {
     "data": {
      "text/plain": [
       "[('courteous', 0.9287810325622559),\n",
       " ('friendly', 0.8312320113182068),\n",
       " ('professional', 0.7926158308982849),\n",
       " ('cordial', 0.790034294128418),\n",
       " ('attentive', 0.7775870561599731),\n",
       " ('curteous', 0.7551116347312927)]"
      ]
     },
     "execution_count": 22,
     "metadata": {},
     "output_type": "execute_result"
    }
   ],
   "source": [
    "w1 = [\"polite\"]\n",
    "model.wv.most_similar (positive=w1,topn=6)"
   ]
  },
  {
   "cell_type": "code",
   "execution_count": 23,
   "id": "4373c7c9",
   "metadata": {},
   "outputs": [
    {
     "data": {
      "text/plain": [
       "[('car', 0.7947025895118713),\n",
       " ('vehicles', 0.6487293243408203),\n",
       " ('minivan', 0.6484553217887878),\n",
       " ('suv', 0.6222909688949585),\n",
       " ('cars', 0.5939807295799255),\n",
       " ('baggages', 0.5902112126350403)]"
      ]
     },
     "execution_count": 23,
     "metadata": {},
     "output_type": "execute_result"
    }
   ],
   "source": [
    "w1 = [\"vehicle\"]\n",
    "model.wv.most_similar (positive=w1,topn=6)"
   ]
  },
  {
   "cell_type": "markdown",
   "id": "b956ff90",
   "metadata": {},
   "source": [
    "That's, nice. You can even specify several positive examples to get things that are related in the provided context and provide negative examples to say what should not be considered as related. In the example below we are asking for all items that relate to bed only:"
   ]
  },
  {
   "cell_type": "markdown",
   "id": "26244083",
   "metadata": {},
   "source": [
    "\n",
    "### Analogy reasoning\n",
    "\n",
    "$boy - girl =  \\begin{bmatrix} \\text{~ 0} \\\\ \\text{~ 2} \\\\ \\text{~ 0} \\\\ \\text{~ 0} \\\\  \\text{~ 0} \\\\ \\vdots \\\\ \\text{~ 0}  \\\\ \\end{bmatrix} \\qquad king - queen =  \\begin{bmatrix} \\text{~ 0} \\\\ \\text{~ 2} \\\\ \\text{~ 0} \\\\ \\text{~ 0} \\\\  \\text{~ 0} \\\\ \\vdots \\\\ \\text{~ 0}  \\\\ \\end{bmatrix}$\n",
    "\n",
    "We may say:  `boy` - `girl` = `king` - `queen`\n",
    "\n",
    "Furher, answer the questions like `boy` is to `girl` as `king` is to `WHO?`\n",
    "\n",
    "\n"
   ]
  },
  {
   "cell_type": "code",
   "execution_count": 24,
   "id": "04b6346d",
   "metadata": {},
   "outputs": [
    {
     "name": "stdout",
     "output_type": "stream",
     "text": [
      "[('queen', 0.7679241299629211)]\n"
     ]
    }
   ],
   "source": [
    "result = model.wv.most_similar(positive=['king', 'woman'], negative=['man'], topn=1)\n",
    "\n",
    "# king - man + woman = ?\n",
    "\n",
    "print(result)"
   ]
  },
  {
   "cell_type": "code",
   "execution_count": 25,
   "id": "5f76863b",
   "metadata": {},
   "outputs": [
    {
     "name": "stdout",
     "output_type": "stream",
     "text": [
      "[('nurse', 0.5307595729827881)]\n"
     ]
    }
   ],
   "source": [
    "result = model.wv.most_similar(positive=[\"doctor\", \"woman\"], negative=['man'], topn=1)\n",
    "\n",
    "# doctor - man + woman = ?\n",
    "\n",
    "print(result)"
   ]
  },
  {
   "cell_type": "code",
   "execution_count": 26,
   "id": "6e7d47d8",
   "metadata": {},
   "outputs": [
    {
     "name": "stdout",
     "output_type": "stream",
     "text": [
      "[('tiny', 0.7188771367073059)]\n"
     ]
    }
   ],
   "source": [
    "result = model.wv.most_similar(positive=[\"huge\", \"small\"], negative=['big'], topn=1)\n",
    "\n",
    "# huge - big + small = ?\n",
    "\n",
    "print(result)"
   ]
  },
  {
   "cell_type": "markdown",
   "id": "cdb9ca36",
   "metadata": {},
   "source": [
    "#### Similarity between two words in the vocabulary"
   ]
  },
  {
   "cell_type": "code",
   "execution_count": 27,
   "id": "877cd242",
   "metadata": {
    "scrolled": true,
    "tags": []
   },
   "outputs": [
    {
     "name": "stdout",
     "output_type": "stream",
     "text": [
      "similarity between two identical words\n",
      "1.0\n",
      "\n",
      "similarity between two different words\n",
      "0.77205294\n",
      "0.5459424\n",
      "0.7947026\n",
      "\n",
      "similarity between two opposit words\n",
      "0.27225775\n",
      "0.45584577\n",
      "\n",
      "similarity between two unrelated words\n",
      "0.004266888\n",
      "-0.023576828\n"
     ]
    }
   ],
   "source": [
    "print('similarity between two identical words')\n",
    "print(model.wv.similarity(w1=\"dirty\",w2=\"dirty\"))\n",
    "\n",
    "print('\\nsimilarity between two different words')\n",
    "print(model.wv.similarity(w1=\"dirty\",w2=\"smelly\"))\n",
    "print(model.wv.similarity(w1=\"bye\",w2=\"goodbye\"))\n",
    "print(model.wv.similarity(w1=\"car\",w2=\"vehicle\"))\n",
    "\n",
    "print('\\nsimilarity between two opposit words')\n",
    "print(model.wv.similarity(w1=\"dirty\",w2=\"clean\"))\n",
    "print(model.wv.similarity(w1=\"wet\",w2=\"dry\"))\n",
    "\n",
    "print('\\nsimilarity between two unrelated words')\n",
    "print(model.wv.similarity(w1=\"green\",w2=\"hotel\"))\n",
    "print(model.wv.similarity(w1=\"hello\",w2=\"the\"))\n"
   ]
  },
  {
   "cell_type": "markdown",
   "id": "18471a12",
   "metadata": {},
   "source": [
    "Under the hood, it computes the cosine similarity between the two specified words using word vectors of each. From the scores, it makes sense that dirty is highly similar to smelly but dirty is dissimilar to clean. If you do a similarity between two identical words, the score will be 1.0 as the range of the cosine similarity score will always be between [0.0-1.0]. You can read more about cosine similarity scoring here."
   ]
  },
  {
   "cell_type": "markdown",
   "id": "c1d40531",
   "metadata": {},
   "source": [
    "#### Find the odd one out\n",
    "You can even use Word2Vec to find odd items given a list of items."
   ]
  },
  {
   "cell_type": "code",
   "execution_count": 28,
   "id": "f93dbb26",
   "metadata": {},
   "outputs": [
    {
     "data": {
      "text/plain": [
       "'france'"
      ]
     },
     "execution_count": 28,
     "metadata": {},
     "output_type": "execute_result"
    }
   ],
   "source": [
    "# Which one is the odd one out in this list?\n",
    "model.wv.doesnt_match([\"cat\",\"dog\",\"france\"])"
   ]
  },
  {
   "cell_type": "code",
   "execution_count": 29,
   "id": "dcd04732",
   "metadata": {},
   "outputs": [
    {
     "data": {
      "text/plain": [
       "'shower'"
      ]
     },
     "execution_count": 29,
     "metadata": {},
     "output_type": "execute_result"
    }
   ],
   "source": [
    "# Which one is the odd one out in this list?\n",
    "model.wv.doesnt_match([\"bed\",\"pillow\",\"sheet\",\"shower\"])"
   ]
  },
  {
   "cell_type": "markdown",
   "id": "7c4ed846",
   "metadata": {},
   "source": [
    "### USE - Universal Sentence Encoder"
   ]
  },
  {
   "cell_type": "markdown",
   "id": "fd041884",
   "metadata": {},
   "source": [
    "The Universal Sentence Encoder encodes text into high dimensional vectors that can be used for text classification, semantic similarity, clustering and other natural language tasks.\n",
    "\n",
    "The model is trained and optimized for greater-than-word length text, such as sentences, phrases or short paragraphs. It is trained on a variety of data sources and a variety of tasks with the aim of dynamically accommodating a wide variety of natural language understanding tasks. The input is variable length English text and the output is a 512 dimensional vector. \n",
    "\n"
   ]
  },
  {
   "cell_type": "code",
   "execution_count": 30,
   "id": "e82e1efd",
   "metadata": {},
   "outputs": [],
   "source": [
    "from keras.layers import LayerNormalization\n",
    "import tensorflow as tf\n",
    "from tensorflow.keras.models import Sequential\n",
    "import tensorflow_hub as hub\n",
    "import tensorflow_text\n",
    "import matplotlib.pyplot as plt\n",
    "import numpy as np\n",
    "import os\n",
    "import pandas as pd\n",
    "import re\n",
    "import seaborn as sns"
   ]
  },
  {
   "cell_type": "code",
   "execution_count": 31,
   "id": "852479ef",
   "metadata": {},
   "outputs": [],
   "source": [
    "# Import the Universal Sentence Encoder's TF Hub module\n",
    "# It may take a while\n",
    "\n",
    "# module_url = \"https://tfhub.dev/google/universal-sentence-encoder/4\" \n",
    "# embed = hub.Module(module_url)\n",
    "embed = hub.load(\"https://tfhub.dev/google/universal-sentence-encoder-multilingual/3\")\n",
    "\n",
    "# or download the model and use it locally\n",
    "\n",
    "# embed = tf.saved_model.load(\"./USE/\")"
   ]
  },
  {
   "cell_type": "code",
   "execution_count": 32,
   "id": "972cb60b",
   "metadata": {},
   "outputs": [
    {
     "name": "stdout",
     "output_type": "stream",
     "text": [
      "Message: Elephant\n",
      "Embedding size: 512\n",
      "Embedding: [0.09126091748476028, -0.01030135340988636, 0.05366115644574165, ...]\n",
      "\n",
      "Message: I am a sentence for which I would like to get its embedding.\n",
      "Embedding size: 512\n",
      "Embedding: [-0.06744198501110077, -0.027072234079241753, 0.03867140784859657, ...]\n",
      "\n",
      "Message: Universal Sentence Encoder embeddings also support short paragraphs. There is no hard limit on how long the paragraph is. Roughly, the longer the more 'diluted' the embedding will be.\n",
      "Embedding size: 512\n",
      "Embedding: [-0.07147429883480072, -0.024703051894903183, 0.045416440814733505, ...]\n",
      "\n"
     ]
    }
   ],
   "source": [
    "# Compute a representation for each message, showing various lengths supported.\n",
    "word = \"Elephant\"\n",
    "sentence = \"I am a sentence for which I would like to get its embedding.\"\n",
    "paragraph = (\n",
    "    \"Universal Sentence Encoder embeddings also support short paragraphs. \"\n",
    "    \"There is no hard limit on how long the paragraph is. Roughly, the longer \"\n",
    "    \"the more 'diluted' the embedding will be.\")\n",
    "messages = [word, sentence, paragraph]\n",
    "\n",
    "\n",
    "message_embeddings = embed(messages)\n",
    "\n",
    "for i, message_embedding in enumerate(np.array(message_embeddings).tolist()):\n",
    "    print(\"Message: {}\".format(messages[i]))\n",
    "    print(\"Embedding size: {}\".format(len(message_embedding)))\n",
    "    message_embedding_snippet = \", \".join(\n",
    "        (str(x) for x in message_embedding[:3]))\n",
    "    print(\"Embedding: [{}, ...]\\n\".format(message_embedding_snippet))"
   ]
  },
  {
   "cell_type": "code",
   "execution_count": 33,
   "id": "af908a27",
   "metadata": {},
   "outputs": [
    {
     "name": "stdout",
     "output_type": "stream",
     "text": [
      "The similarity between 'I like my bike' and 'My motorcycle looks good' = 0.6937729120254517\n",
      "The similarity between 'I like my bike' and 'Two more cells and we are done' = 0.08832340687513351\n"
     ]
    }
   ],
   "source": [
    "str1 = \"I like my bike\"\n",
    "str2 = \"My motorcycle looks good\"\n",
    "str3 = \"Two more cells and we are done\"\n",
    "\n",
    "messages = [str1, str2, str3]\n",
    "emb1, emb2, emb3 = embed(messages)\n",
    "\n",
    "print(f\"The similarity between '{str1}' and '{str2}' = {np.inner(emb1, emb2)}\")\n",
    "print(f\"The similarity between '{str1}' and '{str3}' = {np.inner(emb1, emb3)}\")"
   ]
  },
  {
   "cell_type": "code",
   "execution_count": 35,
   "id": "884dc680-f105-4303-83f8-53dc938f89f7",
   "metadata": {},
   "outputs": [
    {
     "name": "stdout",
     "output_type": "stream",
     "text": [
      "The similarity between  apple  and  яблоко  =  0.854822\n"
     ]
    }
   ],
   "source": [
    "from sklearn.metrics.pairwise import cosine_similarity\n",
    "\n",
    "test_1 = 'apple'\n",
    "test_2 = 'яблоко'\n",
    "message_list = [test_1, test_2]\n",
    "\n",
    "\n",
    "embd = embed(message_list)\n",
    "\n",
    "print(f'The similarity between ', test_1, ' and ', test_2, ' = ', np.inner(embd[0], embd[1]))"
   ]
  },
  {
   "cell_type": "code",
   "execution_count": 36,
   "id": "ad448752",
   "metadata": {},
   "outputs": [],
   "source": [
    "def plot_similarity(labels, features, rotation):\n",
    "    corr = np.inner(features, features)\n",
    "    sns.set(font_scale=1.2)\n",
    "    g = sns.heatmap(\n",
    "      corr,\n",
    "      xticklabels=labels,\n",
    "      yticklabels=labels,\n",
    "      vmin=0,\n",
    "      vmax=1,\n",
    "      cmap=\"YlOrRd\")\n",
    "    g.set_xticklabels(labels, rotation=rotation)\n",
    "    g.set_title(\"Semantic Textual Similarity\")\n",
    "\n",
    "\n",
    "def run_and_plot(messages, encoding_tensor):\n",
    "    message_embeddings = encoding_tensor(messages)\n",
    "    plot_similarity(messages, message_embeddings, 90)"
   ]
  },
  {
   "cell_type": "code",
   "execution_count": 37,
   "id": "776e7296",
   "metadata": {},
   "outputs": [
    {
     "data": {
      "image/png": "[encoded data removed]",
      "text/plain": [
       "<Figure size 432x288 with 2 Axes>"
      ]
     },
     "metadata": {},
     "output_type": "display_data"
    }
   ],
   "source": [
    "messages = [\n",
    "    # Smartphones\n",
    "    \"I like my phone\",\n",
    "    \"My phone is not good.\",\n",
    "    \"Your cellphone looks great.\",\n",
    "\n",
    "    # Weather\n",
    "    \"Will it snow tomorrow?\",\n",
    "    \"Recently a lot of hurricanes have hit the US\",\n",
    "    \"Global warming is real\",\n",
    "\n",
    "    # Food and health\n",
    "    \"An apple a day, keeps the doctors away\",\n",
    "    \"Eating strawberries is healthy\",\n",
    "    \"Is paleo better than keto?\",\n",
    "\n",
    "    # Asking about age\n",
    "    \"How old are you?\",\n",
    "    \"what is your age?\",\n",
    "]\n",
    "\n",
    "run_and_plot(messages, embed)"
   ]
  },
  {
   "cell_type": "markdown",
   "id": "2fb8cd03",
   "metadata": {},
   "source": [
    "# Home task"
   ]
  },
  {
   "cell_type": "markdown",
   "id": "bdc4b16e",
   "metadata": {},
   "source": [
    "1. Using a Spacy, create a keywords extractor that should do the following things:\n",
    " - Take some text (article like) as an input.\n",
    " - Remove all stop words from the text.\n",
    " - Extract all the Nouns from text and sort them by count and return in descending order with amount of occurrences. \n",
    " - Extract all the Verbs from text and sort them by count and return in descending order with amount of occurrences.  \n",
    " - Extract all the Numbers from text and sort them by count and return in descending order with amount of occurrences. \n",
    " - Extract all the Named Entities from the text, group them into 4 groups (Location, Person, Organization, Misc.) and return groups in descending order with amount of occurrences. \n",
    "\n",
    "\n",
    "2. Using multilingual USE, align strings in English and Russian texts:\n",
    " - Download multilingual USE model - https://tfhub.dev/google/universal-sentence-encoder-multilingual/3\n",
    " - Read \"./data/corpora/en.txt\" and \"./data/corpora/ru.txt\" files\n",
    " - Align English strings with their Russian analogues using mUSE\n",
    " \n",
    " \n",
    "3. Using the USE, create a Duplicate Phrase Finder that will do the following:\n",
    " - Take some large text as an input.\n",
    " - Separates text to SENTENCES (phrases). \n",
    " - Finds semantically similar strings (cosine similarity >=0.80)"
   ]
  },
  {
   "cell_type": "markdown",
   "id": "6a7a3905-ba95-48b6-a35e-ae8428bd8b62",
   "metadata": {},
   "source": [
    "# #1"
   ]
  },
  {
   "cell_type": "code",
   "execution_count": 38,
   "id": "caf32c46-409a-41c7-ace5-49bbfac3b83e",
   "metadata": {
    "scrolled": true,
    "tags": []
   },
   "outputs": [
    {
     "name": "stdout",
     "output_type": "stream",
     "text": [
      "CARDINAL Numerals that do not fall under another type\n",
      "DATE Absolute or relative dates or periods\n",
      "EVENT Named hurricanes, battles, wars, sports events, etc.\n",
      "FAC Buildings, airports, highways, bridges, etc.\n",
      "GPE Countries, cities, states\n",
      "ANGUAGE None\n",
      "LAW Named documents made into laws.\n",
      "LOC Non-GPE locations, mountain ranges, bodies of water\n",
      "MONEY Monetary values, including unit\n",
      "NORP Nationalities or religious or political groups\n",
      "ORDINAL \"first\", \"second\", etc.\n",
      "ORG Companies, agencies, institutions, etc.\n",
      "PERCENT Percentage, including \"%\"\n",
      "PERSON People, including fictional\n",
      "PRODUCT Objects, vehicles, foods, etc. (not services)\n",
      "QUANTITY Measurements, as of weight or distance\n",
      "TIME Times smaller than a day\n",
      "WORK_OF_ART Titles of books, songs, etc.\n"
     ]
    }
   ],
   "source": [
    "all_ents = ['CARDINAL', 'DATE', 'EVENT', 'FAC', 'GPE', 'ANGUAGE', 'LAW', 'LOC', 'MONEY', 'NORP', 'ORDINAL', 'ORG', 'PERCENT', 'PERSON', 'PRODUCT', 'QUANTITY', 'TIME', 'WORK_OF_ART']\n",
    "\n",
    "for ent in all_ents:\n",
    "    print(ent, spacy.explain(ent))"
   ]
  },
  {
   "cell_type": "code",
   "execution_count": 39,
   "id": "66299871-cc28-4d9f-b2be-dee428b61de2",
   "metadata": {
    "scrolled": true,
    "tags": []
   },
   "outputs": [],
   "source": [
    "text = open('articles/london.txt').read().lower() "
   ]
  },
  {
   "cell_type": "code",
   "execution_count": 40,
   "id": "e6e6d5da-bc8a-4eeb-b5c5-0c66919c5d30",
   "metadata": {
    "tags": []
   },
   "outputs": [],
   "source": [
    "from collections import Counter\n",
    "\n",
    "all_stopwords = nlp.Defaults.stop_words\n",
    "\n",
    "class Keywords_extractor:\n",
    "    '''\n",
    "    Custom keywords extractor\n",
    "    '''\n",
    "    def __init__(self, raw):\n",
    "        '''\n",
    "        :param raw - string, processed text\n",
    "        '''\n",
    "        self.raw = raw\n",
    "        \n",
    "        self.doc = nlp(self.raw)\n",
    "        print('Doc lenght before cleaning is {} words'.format(len(self.doc)))\n",
    "        \n",
    "        self.doc_filtered = [token for token in self.doc if token.text not in all_stopwords]\n",
    "        print('Doc length after cleaning is {} words\\n'.format(len(self.doc_filtered)))\n",
    "\n",
    "    def get_nouns(self, verbose=False):\n",
    "        # Getting all nouns\n",
    "        '''\n",
    "        :param verbose: set True to display details\n",
    "        :return all the Nouns from the text sorted by count in descending order with amount of occurrences\n",
    "        '''\n",
    "        nouns = [token.lemma_ for token in self.doc_filtered if token.pos_ == 'NOUN']\n",
    "        \n",
    "        if verbose:\n",
    "            print('Most common nouns:\\n{}\\n'.format(Counter(nouns).most_common(10)))\n",
    "        \n",
    "        return Counter(nouns).most_common(10)\n",
    "\n",
    "    \n",
    "    def get_verbs(self, verbose=False):\n",
    "        # Getting all verbs\n",
    "        '''\n",
    "        :param verbose: set True to display details\n",
    "        :return all the Verbs from the text sorted by count in descending order with amount of occurrences\n",
    "        '''\n",
    "        verbs = [token.lemma_ for token in self.doc_filtered if token.pos_ == 'VERB']\n",
    "        \n",
    "        if verbose:\n",
    "            print('Most common verbs:\\n{}\\n'.format(Counter(verbs).most_common(10)))\n",
    "        \n",
    "        return Counter(verbs).most_common(10)\n",
    "\n",
    "    \n",
    "    def get_numbers(self, verbose=False):\n",
    "        # Getting all numbers\n",
    "        '''\n",
    "        :param verbose: set True to display details\n",
    "        :return all the Numbers from the text sorted by count in descending order with amount of occurrences\n",
    "        '''\n",
    "        numbers = [token.lemma_ for token in self.doc_filtered if token.pos_ == 'NUM']\n",
    "        \n",
    "        if verbose:\n",
    "            print('Most common numbers:\\n{}\\n'.format(Counter(numbers).most_common(10)))\n",
    "        \n",
    "        return Counter(numbers).most_common(10)\n",
    "\n",
    "    def get_named_entities(self, verbose=False):\n",
    "        '''\n",
    "        :param verbose: set True to display details\n",
    "        :return all the Named Entities from the text, grouped into 4 groups (Location, Person, Organization, Misc.) and sorted in descending order with amount of occurrences\n",
    "        '''\n",
    "        # Location\n",
    "        NE_locations = [token.text for token in self.doc.ents if token.label_ in ['GPE', 'LOC']]\n",
    "        # Person\n",
    "        NE_persons = [token.text for token in self.doc.ents if token.label_ == 'PERSON']\n",
    "        # Organization\n",
    "        NE_orgs = [token.text for token in self.doc.ents if token.label_ == 'ORG']\n",
    "        # Misc.\n",
    "        NE_misc = [token.text for token in self.doc.ents if token.label_ in all_ents and token.label_ not in ['GPE', 'LOC', 'PERSON', 'ORG']]\n",
    "\n",
    "        if verbose:\n",
    "            print('Locations:\\n{}\\nPersons:\\n{}\\nOrganizations:\\n{}\\nMisc:\\n{}\\n'.format(Counter(NE_locations).most_common(10),\n",
    "                                                                                         Counter(NE_persons).most_common(10),\n",
    "                                                                                         Counter(NE_orgs).most_common(10),\n",
    "                                                                                         Counter(NE_misc).most_common(10)))"
   ]
  },
  {
   "cell_type": "code",
   "execution_count": 41,
   "id": "d7d14efd-fb3f-4d57-99e3-9b864d5d116c",
   "metadata": {},
   "outputs": [
    {
     "name": "stdout",
     "output_type": "stream",
     "text": [
      "Doc lenght before cleaning is 655 words\n",
      "Doc length after cleaning is 315 words\n",
      "\n",
      "Most common nouns:\n",
      "[('history', 12), ('country', 10), ('today', 6), ('year', 4), ('opportunity', 4), ('world', 4), ('decision', 3), ('trip', 3), ('event', 3), ('place', 3)]\n",
      "\n",
      "Most common verbs:\n",
      "[('write', 4), ('walk', 4), ('stand', 3), ('remain', 3), ('fill', 2), ('start', 2), ('visit', 2), ('set', 2), ('make', 2), ('take', 2)]\n",
      "\n",
      "Most common numbers:\n",
      "[('1588', 1), ('eighty', 1)]\n",
      "\n",
      "Locations:\n",
      "[('england', 6), ('great britain', 1), ('scotland', 1), ('wales', 1), ('united kingdom', 1)]\n",
      "Persons:\n",
      "[('henry vii', 1)]\n",
      "Organizations:\n",
      "[]\n",
      "Misc:\n",
      "[('today', 6), ('the years', 3), ('thousands', 1), ('hundreds of years ago', 1), ('centuries', 1), ('spanish', 1), ('this day', 1), ('two', 1), ('eighty percent', 1)]\n",
      "\n"
     ]
    }
   ],
   "source": [
    "x = Keywords_extractor(text)\n",
    "x.get_nouns(verbose=True)\n",
    "x.get_verbs(verbose=True)\n",
    "x.get_numbers(verbose=True)\n",
    "x.get_named_entities(verbose=True)"
   ]
  },
  {
   "cell_type": "code",
   "execution_count": 42,
   "id": "3f633f5d-abd0-4ba3-a481-b4ba8f6beb1c",
   "metadata": {},
   "outputs": [
    {
     "name": "stdout",
     "output_type": "stream",
     "text": [
      "Help on class Keywords_extractor in module __main__:\n",
      "\n",
      "class Keywords_extractor(builtins.object)\n",
      " |  Keywords_extractor(raw)\n",
      " |  \n",
      " |  Custom keywords extractor\n",
      " |  \n",
      " |  Methods defined here:\n",
      " |  \n",
      " |  __init__(self, raw)\n",
      " |      :param raw - string, processed text\n",
      " |  \n",
      " |  get_named_entities(self, verbose=False)\n",
      " |      :param verbose: set True to display details\n",
      " |      :return all the Named Entities from the text, grouped into 4 groups (Location, Person, Organization, Misc.) and sorted in descending order with amount of occurrences\n",
      " |  \n",
      " |  get_nouns(self, verbose=False)\n",
      " |      :param verbose: set True to display details\n",
      " |      :return all the Nouns from the text sorted by count in descending order with amount of occurrences\n",
      " |  \n",
      " |  get_numbers(self, verbose=False)\n",
      " |      :param verbose: set True to display details\n",
      " |      :return all the Numbers from the text sorted by count in descending order with amount of occurrences\n",
      " |  \n",
      " |  get_verbs(self, verbose=False)\n",
      " |      :param verbose: set True to display details\n",
      " |      :return all the Verbs from the text sorted by count in descending order with amount of occurrences\n",
      " |  \n",
      " |  ----------------------------------------------------------------------\n",
      " |  Data descriptors defined here:\n",
      " |  \n",
      " |  __dict__\n",
      " |      dictionary for instance variables (if defined)\n",
      " |  \n",
      " |  __weakref__\n",
      " |      list of weak references to the object (if defined)\n",
      "\n"
     ]
    }
   ],
   "source": [
    "help(Keywords_extractor)"
   ]
  },
  {
   "cell_type": "markdown",
   "id": "4f751761-5945-4faf-9de1-6087d52c2e64",
   "metadata": {},
   "source": [
    "# #2"
   ]
  },
  {
   "cell_type": "code",
   "execution_count": 43,
   "id": "abdab8a5",
   "metadata": {},
   "outputs": [
    {
     "name": "stdout",
     "output_type": "stream",
     "text": [
      "('How do you explain this progression?', 'Как вы объясните этот рост?') \n",
      "\n",
      "(\"Cigarettes are linked to 85% of lung cancer cases, this massively damages people's health.\", 'Курение связано с 85% случаев рака легких. Оно наносит колоссальный вред здоровью людей.') \n",
      "\n",
      "('Everything moves very fast in football', 'В футболе все происходит очень быстро.') \n",
      "\n",
      "(\"You're never going to win 4-0 every weekend - we're not FC Barcelona!\", 'Мы никогда не сможем выигрывать каждые выходные со счетом 4-0.') \n",
      "\n",
      "('We got out of Afghanistan.', 'Мы ушли из Афганистана.') \n",
      "\n",
      "('French troops have left their area of responsibility in Afghanistan', 'Французские войска покинули свою зону ответственности в Афганистане') \n",
      "\n"
     ]
    }
   ],
   "source": [
    "# Read \"./data/corpora/en.txt\" and \"./data/corpora/ru.txt\" files\n",
    "\n",
    "en = []\n",
    "ru = []\n",
    "with open(\"./data/corpora/en.txt\") as f:\n",
    "    for line in f.readlines()[:50]:\n",
    "        en.append(line.strip())\n",
    "        \n",
    "with open(\"./data/corpora/ru.txt\") as f:\n",
    "    for line in f.readlines()[:50]:\n",
    "        ru.append(line.strip()) \n",
    "        \n",
    "def compare_sents(sent_1, sent_2):\n",
    "    sent_1, sent_2 = embed([sent_1, sent_2])\n",
    "    return np.inner(sent_1, sent_2)\n",
    "\n",
    "# print(en, '\\n\\n', ru)\n",
    "\n",
    "for i in range(len(en)):\n",
    "    best_option = max([(compare_sents(en[i], x), x) for x in ru])\n",
    "    print((en[i], best_option[1]), '\\n')"
   ]
  },
  {
   "cell_type": "markdown",
   "id": "358aab76-657d-4944-a84c-524024ee854d",
   "metadata": {},
   "source": [
    "# #3"
   ]
  },
  {
   "cell_type": "code",
   "execution_count": 44,
   "id": "c812184f-18a3-4304-a5d2-1b51849ba446",
   "metadata": {},
   "outputs": [],
   "source": [
    "text = open('articles/large_text.txt').read().lower() "
   ]
  },
  {
   "cell_type": "code",
   "execution_count": 45,
   "id": "3cd93164-5d9d-467f-9939-d642ab39f8a6",
   "metadata": {},
   "outputs": [
    {
     "data": {
      "text/plain": [
       "'emma woodhouse, handsome, clever, and rich, with a comfortable home andhappy disposition, seemed to unite some of the best blessings ofexistence; and had lived nearly twenty-one years in the world with verylittle to distress or vex her.she was the youngest of the two daughters of a most affectionate,indulgent father; and had, in consequence of her sisters marriage,been mistress of his house from a very early period. her mother haddied too long ago for her to have more than an indistinct remembranceof her caresses; and her place had been supplied by an excellent womanas governess, who had fallen little short of a mother in affection.sixteen years had miss taylor been in mr. woodhouses family, less as agoverness than a friend, very fond of both daughters, but particularlyof emma. between them it was more the intimacy of sisters. evenbefore miss taylor had ceased to hold the nominal office '"
      ]
     },
     "execution_count": 45,
     "metadata": {},
     "output_type": "execute_result"
    }
   ],
   "source": [
    "text[:900]"
   ]
  },
  {
   "cell_type": "code",
   "execution_count": 46,
   "id": "ff1056b0-a401-4223-9bcd-f8b28e2536e2",
   "metadata": {},
   "outputs": [],
   "source": [
    "from nltk.tokenize import sent_tokenize\n",
    "\n",
    "def similarity_check(sent_1, sent_2):\n",
    "    if np.inner(sent_1, sent_2) > 0.8:\n",
    "        return True\n",
    "    return False\n",
    "# sentences[2:10]"
   ]
  },
  {
   "cell_type": "code",
   "execution_count": 47,
   "id": "7a01a2e9-20fe-46b9-a409-c59507a4d277",
   "metadata": {},
   "outputs": [
    {
     "name": "stdout",
     "output_type": "stream",
     "text": [
      "Sentence (id - 15) ( his spirit needed help. ) is similar to - (ids [21])\n",
      "\n",
      "\n",
      "Sentence (id - 21) ( his spirits required support. ) is similar to - (ids [15])\n",
      "\n",
      "\n",
      "Sentence (id - 70) ( oh no! ) is similar to - (ids [90, 93])\n",
      "\n",
      "\n",
      "Sentence (id - 90) ( oh dear, no! ) is similar to - (ids [70, 93])\n",
      "\n",
      "\n",
      "Sentence (id - 93) ( oh no! ) is similar to - (ids [70, 90])\n",
      "\n",
      "\n"
     ]
    }
   ],
   "source": [
    "def DuplicatePhraseFinder(raw_text):\n",
    "    sentences = np.array(sent_tokenize(raw_text))\n",
    "    sentences.shape\n",
    "\n",
    "    sentences_vectorized = embed(sentences)\n",
    "\n",
    "    similar_sents = []\n",
    "\n",
    "    for i in range(len(sentences)):\n",
    "        similar_sents = [ind for ind, x in enumerate(sentences_vectorized) if similarity_check(sentences_vectorized[i], x) and (i != ind)]\n",
    "        if len(similar_sents):\n",
    "            print('Sentence (id - {}) ( {} ) is similar to - (ids {})\\n\\n'.format(i, sentences[i], similar_sents))\n",
    "            \n",
    "DuplicatePhraseFinder(text)"
   ]
  },
  {
   "cell_type": "code",
   "execution_count": null,
   "id": "ad22a171-4363-45fc-b5bb-985e1a6d72d2",
   "metadata": {},
   "outputs": [],
   "source": []
  }
 ],
 "metadata": {
  "kernelspec": {
   "display_name": "Python 3",
   "language": "python",
   "name": "python3"
  },
  "language_info": {
   "codemirror_mode": {
    "name": "ipython",
    "version": 3
   },
   "file_extension": ".py",
   "mimetype": "text/x-python",
   "name": "python",
   "nbconvert_exporter": "python",
   "pygments_lexer": "ipython3",
   "version": "3.8.8"
  }
 },
 "nbformat": 4,
 "nbformat_minor": 5
}
